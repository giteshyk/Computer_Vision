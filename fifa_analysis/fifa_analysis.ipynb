{
 "cells": [
  {
   "cell_type": "code",
   "execution_count": 1,
   "id": "df944b92",
   "metadata": {},
   "outputs": [],
   "source": [
    "import cv2\n",
    "import pyautogui\n",
    "import numpy as np\n",
    "import time"
   ]
  },
  {
   "cell_type": "code",
   "execution_count": 2,
   "id": "31ae9e13",
   "metadata": {},
   "outputs": [],
   "source": [
    "# Load the template image\n",
    "template = cv2.imread(r\"D:\\Learnings\\datasets\\fifa\\template\\stats_ss.png\", 0)"
   ]
  },
  {
   "cell_type": "code",
   "execution_count": 3,
   "id": "4d69bfa8",
   "metadata": {},
   "outputs": [],
   "source": [
    "#cv2.imshow('image', template)"
   ]
  },
  {
   "cell_type": "code",
   "execution_count": 4,
   "id": "6fda098c",
   "metadata": {},
   "outputs": [],
   "source": [
    "count = 0"
   ]
  },
  {
   "cell_type": "code",
   "execution_count": 5,
   "id": "7e892bca",
   "metadata": {},
   "outputs": [],
   "source": [
    "while True:\n",
    "    # Get the current screen\n",
    "    img = pyautogui.screenshot()\n",
    "    # Convert the image to a numpy array\n",
    "    img = np.array(img)\n",
    "    # Convert the image from BGR to gray\n",
    "    gray_img = cv2.cvtColor(img, cv2.COLOR_BGR2GRAY)\n",
    "\n",
    "    #to-do match template with start of the game to enter into the while loop, break while when ss is found\n",
    "    \n",
    "    # Use template matching to find the template in the current screen\n",
    "    res = cv2.matchTemplate(gray_img, template, cv2.TM_CCOEFF_NORMED)\n",
    "    \n",
    "    # Set a threshold for a match\n",
    "    threshold = 0.3\n",
    "    loc = np.where(res >= threshold)\n",
    "\n",
    "    # If a match is found\n",
    "    if len(loc[0]) > 0:\n",
    "        # Capture the screenshot\n",
    "        #capture_screenshot(\"screenshot.jpg\")\n",
    "        count += 1\n",
    "        str_cnt = str(count)\n",
    "        myScreenshot = pyautogui.screenshot()\n",
    "        myScreenshot.save(r\"D:\\Learnings\\datasets\\fifa\\captured\\ss\"+str_cnt+\".png\")\n",
    "        break\n",
    "    else:\n",
    "        # Wait for a moment and check again\n",
    "        time.sleep(0.1)"
   ]
  },
  {
   "cell_type": "code",
   "execution_count": null,
   "id": "e182229b",
   "metadata": {},
   "outputs": [],
   "source": []
  },
  {
   "cell_type": "code",
   "execution_count": null,
   "id": "e43e5acc",
   "metadata": {},
   "outputs": [],
   "source": []
  }
 ],
 "metadata": {
  "kernelspec": {
   "display_name": "Python 3 (ipykernel)",
   "language": "python",
   "name": "python3"
  },
  "language_info": {
   "codemirror_mode": {
    "name": "ipython",
    "version": 3
   },
   "file_extension": ".py",
   "mimetype": "text/x-python",
   "name": "python",
   "nbconvert_exporter": "python",
   "pygments_lexer": "ipython3",
   "version": "3.9.12"
  }
 },
 "nbformat": 4,
 "nbformat_minor": 5
}
